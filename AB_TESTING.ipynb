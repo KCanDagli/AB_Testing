{
 "cells": [
  {
   "cell_type": "code",
   "execution_count": 1,
   "id": "09dd9ce0-3bd3-4321-a1ce-826e65b98c15",
   "metadata": {},
   "outputs": [],
   "source": [
    "import itertools\n",
    "import numpy as np\n",
    "import pandas as pd\n",
    "import matplotlib.pyplot as plt\n",
    "import seaborn as sns\n",
    "# !pip install statsmodels\n",
    "import statsmodels.stats.api as sms\n",
    "from scipy.stats import ttest_1samp, shapiro, levene, ttest_ind, mannwhitneyu, \\\n",
    "    pearsonr, spearmanr, kendalltau, f_oneway, kruskal\n",
    "from statsmodels.stats.proportion import proportions_ztest\n",
    "\n",
    "pd.set_option('display.max_columns', None)\n",
    "pd.set_option('display.max_rows', 10)\n",
    "pd.set_option('display.float_format', lambda x: '%.5f' % x)"
   ]
  },
  {
   "cell_type": "code",
   "execution_count": 2,
   "id": "45e38a86-b2b2-4c33-9606-5a1516fdb92c",
   "metadata": {},
   "outputs": [],
   "source": [
    "df_Control = pd.read_excel(\"ab_testing.xlsx\", sheet_name=\"Control Group\")"
   ]
  },
  {
   "cell_type": "code",
   "execution_count": 3,
   "id": "051e5dd1-bce7-4789-993b-c8d2adb6f54c",
   "metadata": {},
   "outputs": [],
   "source": [
    "df_Test = pd.read_excel(\"ab_testing.xlsx\", sheet_name=\"Test Group\")"
   ]
  },
  {
   "cell_type": "code",
   "execution_count": 4,
   "id": "75fa3c79-4a8a-4eb3-9ad3-782b2f73976f",
   "metadata": {},
   "outputs": [
    {
     "data": {
      "text/html": [
       "<div>\n",
       "<style scoped>\n",
       "    .dataframe tbody tr th:only-of-type {\n",
       "        vertical-align: middle;\n",
       "    }\n",
       "\n",
       "    .dataframe tbody tr th {\n",
       "        vertical-align: top;\n",
       "    }\n",
       "\n",
       "    .dataframe thead th {\n",
       "        text-align: right;\n",
       "    }\n",
       "</style>\n",
       "<table border=\"1\" class=\"dataframe\">\n",
       "  <thead>\n",
       "    <tr style=\"text-align: right;\">\n",
       "      <th></th>\n",
       "      <th>Impression</th>\n",
       "      <th>Click</th>\n",
       "      <th>Purchase</th>\n",
       "      <th>Earning</th>\n",
       "    </tr>\n",
       "  </thead>\n",
       "  <tbody>\n",
       "    <tr>\n",
       "      <th>0</th>\n",
       "      <td>120103.50380</td>\n",
       "      <td>3216.54796</td>\n",
       "      <td>702.16035</td>\n",
       "      <td>1939.61124</td>\n",
       "    </tr>\n",
       "    <tr>\n",
       "      <th>1</th>\n",
       "      <td>134775.94336</td>\n",
       "      <td>3635.08242</td>\n",
       "      <td>834.05429</td>\n",
       "      <td>2929.40582</td>\n",
       "    </tr>\n",
       "    <tr>\n",
       "      <th>2</th>\n",
       "      <td>107806.62079</td>\n",
       "      <td>3057.14356</td>\n",
       "      <td>422.93426</td>\n",
       "      <td>2526.24488</td>\n",
       "    </tr>\n",
       "    <tr>\n",
       "      <th>3</th>\n",
       "      <td>116445.27553</td>\n",
       "      <td>4650.47391</td>\n",
       "      <td>429.03353</td>\n",
       "      <td>2281.42857</td>\n",
       "    </tr>\n",
       "    <tr>\n",
       "      <th>4</th>\n",
       "      <td>145082.51684</td>\n",
       "      <td>5201.38772</td>\n",
       "      <td>749.86044</td>\n",
       "      <td>2781.69752</td>\n",
       "    </tr>\n",
       "  </tbody>\n",
       "</table>\n",
       "</div>"
      ],
      "text/plain": [
       "    Impression      Click  Purchase    Earning\n",
       "0 120103.50380 3216.54796 702.16035 1939.61124\n",
       "1 134775.94336 3635.08242 834.05429 2929.40582\n",
       "2 107806.62079 3057.14356 422.93426 2526.24488\n",
       "3 116445.27553 4650.47391 429.03353 2281.42857\n",
       "4 145082.51684 5201.38772 749.86044 2781.69752"
      ]
     },
     "execution_count": 4,
     "metadata": {},
     "output_type": "execute_result"
    }
   ],
   "source": [
    "df_Test.head()"
   ]
  },
  {
   "cell_type": "code",
   "execution_count": 5,
   "id": "b4a3bf3e-759f-4a5b-9182-dd8a2795d414",
   "metadata": {},
   "outputs": [
    {
     "data": {
      "text/html": [
       "<div>\n",
       "<style scoped>\n",
       "    .dataframe tbody tr th:only-of-type {\n",
       "        vertical-align: middle;\n",
       "    }\n",
       "\n",
       "    .dataframe tbody tr th {\n",
       "        vertical-align: top;\n",
       "    }\n",
       "\n",
       "    .dataframe thead th {\n",
       "        text-align: right;\n",
       "    }\n",
       "</style>\n",
       "<table border=\"1\" class=\"dataframe\">\n",
       "  <thead>\n",
       "    <tr style=\"text-align: right;\">\n",
       "      <th></th>\n",
       "      <th>Impression</th>\n",
       "      <th>Click</th>\n",
       "      <th>Purchase</th>\n",
       "      <th>Earning</th>\n",
       "    </tr>\n",
       "  </thead>\n",
       "  <tbody>\n",
       "    <tr>\n",
       "      <th>0</th>\n",
       "      <td>82529.45927</td>\n",
       "      <td>6090.07732</td>\n",
       "      <td>665.21125</td>\n",
       "      <td>2311.27714</td>\n",
       "    </tr>\n",
       "    <tr>\n",
       "      <th>1</th>\n",
       "      <td>98050.45193</td>\n",
       "      <td>3382.86179</td>\n",
       "      <td>315.08489</td>\n",
       "      <td>1742.80686</td>\n",
       "    </tr>\n",
       "    <tr>\n",
       "      <th>2</th>\n",
       "      <td>82696.02355</td>\n",
       "      <td>4167.96575</td>\n",
       "      <td>458.08374</td>\n",
       "      <td>1797.82745</td>\n",
       "    </tr>\n",
       "    <tr>\n",
       "      <th>3</th>\n",
       "      <td>109914.40040</td>\n",
       "      <td>4910.88224</td>\n",
       "      <td>487.09077</td>\n",
       "      <td>1696.22918</td>\n",
       "    </tr>\n",
       "    <tr>\n",
       "      <th>4</th>\n",
       "      <td>108457.76263</td>\n",
       "      <td>5987.65581</td>\n",
       "      <td>441.03405</td>\n",
       "      <td>1543.72018</td>\n",
       "    </tr>\n",
       "  </tbody>\n",
       "</table>\n",
       "</div>"
      ],
      "text/plain": [
       "    Impression      Click  Purchase    Earning\n",
       "0  82529.45927 6090.07732 665.21125 2311.27714\n",
       "1  98050.45193 3382.86179 315.08489 1742.80686\n",
       "2  82696.02355 4167.96575 458.08374 1797.82745\n",
       "3 109914.40040 4910.88224 487.09077 1696.22918\n",
       "4 108457.76263 5987.65581 441.03405 1543.72018"
      ]
     },
     "execution_count": 5,
     "metadata": {},
     "output_type": "execute_result"
    }
   ],
   "source": [
    "df_Control.head()"
   ]
  },
  {
   "cell_type": "code",
   "execution_count": 6,
   "id": "147e6f6f-5ced-4769-87f6-dfe2c44aeea3",
   "metadata": {},
   "outputs": [],
   "source": [
    "df_Test.columns=[col+\"_Test\" for col in df_Test.columns]"
   ]
  },
  {
   "cell_type": "code",
   "execution_count": 7,
   "id": "6802343e-2d86-4dd0-b15b-13893eee73d9",
   "metadata": {},
   "outputs": [
    {
     "data": {
      "text/html": [
       "<div>\n",
       "<style scoped>\n",
       "    .dataframe tbody tr th:only-of-type {\n",
       "        vertical-align: middle;\n",
       "    }\n",
       "\n",
       "    .dataframe tbody tr th {\n",
       "        vertical-align: top;\n",
       "    }\n",
       "\n",
       "    .dataframe thead th {\n",
       "        text-align: right;\n",
       "    }\n",
       "</style>\n",
       "<table border=\"1\" class=\"dataframe\">\n",
       "  <thead>\n",
       "    <tr style=\"text-align: right;\">\n",
       "      <th></th>\n",
       "      <th>Impression_Test</th>\n",
       "      <th>Click_Test</th>\n",
       "      <th>Purchase_Test</th>\n",
       "      <th>Earning_Test</th>\n",
       "    </tr>\n",
       "  </thead>\n",
       "  <tbody>\n",
       "    <tr>\n",
       "      <th>0</th>\n",
       "      <td>120103.50380</td>\n",
       "      <td>3216.54796</td>\n",
       "      <td>702.16035</td>\n",
       "      <td>1939.61124</td>\n",
       "    </tr>\n",
       "    <tr>\n",
       "      <th>1</th>\n",
       "      <td>134775.94336</td>\n",
       "      <td>3635.08242</td>\n",
       "      <td>834.05429</td>\n",
       "      <td>2929.40582</td>\n",
       "    </tr>\n",
       "    <tr>\n",
       "      <th>2</th>\n",
       "      <td>107806.62079</td>\n",
       "      <td>3057.14356</td>\n",
       "      <td>422.93426</td>\n",
       "      <td>2526.24488</td>\n",
       "    </tr>\n",
       "    <tr>\n",
       "      <th>3</th>\n",
       "      <td>116445.27553</td>\n",
       "      <td>4650.47391</td>\n",
       "      <td>429.03353</td>\n",
       "      <td>2281.42857</td>\n",
       "    </tr>\n",
       "    <tr>\n",
       "      <th>4</th>\n",
       "      <td>145082.51684</td>\n",
       "      <td>5201.38772</td>\n",
       "      <td>749.86044</td>\n",
       "      <td>2781.69752</td>\n",
       "    </tr>\n",
       "    <tr>\n",
       "      <th>...</th>\n",
       "      <td>...</td>\n",
       "      <td>...</td>\n",
       "      <td>...</td>\n",
       "      <td>...</td>\n",
       "    </tr>\n",
       "    <tr>\n",
       "      <th>35</th>\n",
       "      <td>79234.91193</td>\n",
       "      <td>6002.21358</td>\n",
       "      <td>382.04712</td>\n",
       "      <td>2277.86398</td>\n",
       "    </tr>\n",
       "    <tr>\n",
       "      <th>36</th>\n",
       "      <td>130702.23941</td>\n",
       "      <td>3626.32007</td>\n",
       "      <td>449.82459</td>\n",
       "      <td>2530.84133</td>\n",
       "    </tr>\n",
       "    <tr>\n",
       "      <th>37</th>\n",
       "      <td>116481.87337</td>\n",
       "      <td>4702.78247</td>\n",
       "      <td>472.45373</td>\n",
       "      <td>2597.91763</td>\n",
       "    </tr>\n",
       "    <tr>\n",
       "      <th>38</th>\n",
       "      <td>79033.83492</td>\n",
       "      <td>4495.42818</td>\n",
       "      <td>425.35910</td>\n",
       "      <td>2595.85788</td>\n",
       "    </tr>\n",
       "    <tr>\n",
       "      <th>39</th>\n",
       "      <td>102257.45409</td>\n",
       "      <td>4800.06832</td>\n",
       "      <td>521.31073</td>\n",
       "      <td>2967.51839</td>\n",
       "    </tr>\n",
       "  </tbody>\n",
       "</table>\n",
       "<p>40 rows × 4 columns</p>\n",
       "</div>"
      ],
      "text/plain": [
       "    Impression_Test  Click_Test  Purchase_Test  Earning_Test\n",
       "0      120103.50380  3216.54796      702.16035    1939.61124\n",
       "1      134775.94336  3635.08242      834.05429    2929.40582\n",
       "2      107806.62079  3057.14356      422.93426    2526.24488\n",
       "3      116445.27553  4650.47391      429.03353    2281.42857\n",
       "4      145082.51684  5201.38772      749.86044    2781.69752\n",
       "..              ...         ...            ...           ...\n",
       "35      79234.91193  6002.21358      382.04712    2277.86398\n",
       "36     130702.23941  3626.32007      449.82459    2530.84133\n",
       "37     116481.87337  4702.78247      472.45373    2597.91763\n",
       "38      79033.83492  4495.42818      425.35910    2595.85788\n",
       "39     102257.45409  4800.06832      521.31073    2967.51839\n",
       "\n",
       "[40 rows x 4 columns]"
      ]
     },
     "execution_count": 7,
     "metadata": {},
     "output_type": "execute_result"
    }
   ],
   "source": [
    "df_Test"
   ]
  },
  {
   "cell_type": "code",
   "execution_count": 8,
   "id": "c5880719-fb30-4c34-9601-36c409e53f26",
   "metadata": {},
   "outputs": [],
   "source": [
    "df_Control.columns=[col+\"_Control\" for col in df_Control.columns]"
   ]
  },
  {
   "cell_type": "code",
   "execution_count": 9,
   "id": "e3ac7918-06a8-49e3-83c5-757bd27624e8",
   "metadata": {},
   "outputs": [
    {
     "data": {
      "text/html": [
       "<div>\n",
       "<style scoped>\n",
       "    .dataframe tbody tr th:only-of-type {\n",
       "        vertical-align: middle;\n",
       "    }\n",
       "\n",
       "    .dataframe tbody tr th {\n",
       "        vertical-align: top;\n",
       "    }\n",
       "\n",
       "    .dataframe thead th {\n",
       "        text-align: right;\n",
       "    }\n",
       "</style>\n",
       "<table border=\"1\" class=\"dataframe\">\n",
       "  <thead>\n",
       "    <tr style=\"text-align: right;\">\n",
       "      <th></th>\n",
       "      <th>Impression_Control</th>\n",
       "      <th>Click_Control</th>\n",
       "      <th>Purchase_Control</th>\n",
       "      <th>Earning_Control</th>\n",
       "    </tr>\n",
       "  </thead>\n",
       "  <tbody>\n",
       "    <tr>\n",
       "      <th>0</th>\n",
       "      <td>82529.45927</td>\n",
       "      <td>6090.07732</td>\n",
       "      <td>665.21125</td>\n",
       "      <td>2311.27714</td>\n",
       "    </tr>\n",
       "    <tr>\n",
       "      <th>1</th>\n",
       "      <td>98050.45193</td>\n",
       "      <td>3382.86179</td>\n",
       "      <td>315.08489</td>\n",
       "      <td>1742.80686</td>\n",
       "    </tr>\n",
       "    <tr>\n",
       "      <th>2</th>\n",
       "      <td>82696.02355</td>\n",
       "      <td>4167.96575</td>\n",
       "      <td>458.08374</td>\n",
       "      <td>1797.82745</td>\n",
       "    </tr>\n",
       "    <tr>\n",
       "      <th>3</th>\n",
       "      <td>109914.40040</td>\n",
       "      <td>4910.88224</td>\n",
       "      <td>487.09077</td>\n",
       "      <td>1696.22918</td>\n",
       "    </tr>\n",
       "    <tr>\n",
       "      <th>4</th>\n",
       "      <td>108457.76263</td>\n",
       "      <td>5987.65581</td>\n",
       "      <td>441.03405</td>\n",
       "      <td>1543.72018</td>\n",
       "    </tr>\n",
       "    <tr>\n",
       "      <th>...</th>\n",
       "      <td>...</td>\n",
       "      <td>...</td>\n",
       "      <td>...</td>\n",
       "      <td>...</td>\n",
       "    </tr>\n",
       "    <tr>\n",
       "      <th>35</th>\n",
       "      <td>132064.21900</td>\n",
       "      <td>3747.15754</td>\n",
       "      <td>551.07241</td>\n",
       "      <td>2256.97559</td>\n",
       "    </tr>\n",
       "    <tr>\n",
       "      <th>36</th>\n",
       "      <td>86409.94180</td>\n",
       "      <td>4608.25621</td>\n",
       "      <td>345.04603</td>\n",
       "      <td>1781.35769</td>\n",
       "    </tr>\n",
       "    <tr>\n",
       "      <th>37</th>\n",
       "      <td>123678.93423</td>\n",
       "      <td>3649.07379</td>\n",
       "      <td>476.16813</td>\n",
       "      <td>2187.72122</td>\n",
       "    </tr>\n",
       "    <tr>\n",
       "      <th>38</th>\n",
       "      <td>101997.49410</td>\n",
       "      <td>4736.35337</td>\n",
       "      <td>474.61354</td>\n",
       "      <td>2254.56383</td>\n",
       "    </tr>\n",
       "    <tr>\n",
       "      <th>39</th>\n",
       "      <td>121085.88122</td>\n",
       "      <td>4285.17861</td>\n",
       "      <td>590.40602</td>\n",
       "      <td>1289.30895</td>\n",
       "    </tr>\n",
       "  </tbody>\n",
       "</table>\n",
       "<p>40 rows × 4 columns</p>\n",
       "</div>"
      ],
      "text/plain": [
       "    Impression_Control  Click_Control  Purchase_Control  Earning_Control\n",
       "0          82529.45927     6090.07732         665.21125       2311.27714\n",
       "1          98050.45193     3382.86179         315.08489       1742.80686\n",
       "2          82696.02355     4167.96575         458.08374       1797.82745\n",
       "3         109914.40040     4910.88224         487.09077       1696.22918\n",
       "4         108457.76263     5987.65581         441.03405       1543.72018\n",
       "..                 ...            ...               ...              ...\n",
       "35        132064.21900     3747.15754         551.07241       2256.97559\n",
       "36         86409.94180     4608.25621         345.04603       1781.35769\n",
       "37        123678.93423     3649.07379         476.16813       2187.72122\n",
       "38        101997.49410     4736.35337         474.61354       2254.56383\n",
       "39        121085.88122     4285.17861         590.40602       1289.30895\n",
       "\n",
       "[40 rows x 4 columns]"
      ]
     },
     "execution_count": 9,
     "metadata": {},
     "output_type": "execute_result"
    }
   ],
   "source": [
    "df_Control"
   ]
  },
  {
   "cell_type": "code",
   "execution_count": 10,
   "id": "e233b03b-4a69-4588-8c76-a76f0968c315",
   "metadata": {},
   "outputs": [],
   "source": [
    "def check_df(dataframe):\n",
    "    print(\"######################## shape ########################\")\n",
    "    print(dataframe.shape)\n",
    "    print(\"######################## dtypes ########################\")\n",
    "    print(dataframe.dtypes)\n",
    "    print(\"######################## head ########################\")\n",
    "    print(dataframe.head())\n",
    "    print(\"######################## tail ########################\")\n",
    "    print(dataframe.tail())\n",
    "    print(\"######################## isnull.sum() ########################\")\n",
    "    print(dataframe.isnull().sum())\n",
    "    print(\"######################## Quantiles ########################\")\n",
    "    print(dataframe.describe([0, 0.05, 0.50, 0.95, 0.99, 1]).T)"
   ]
  },
  {
   "cell_type": "code",
   "execution_count": 11,
   "id": "7aca34f7-ff44-4f82-8952-0b0f24ef288a",
   "metadata": {},
   "outputs": [
    {
     "data": {
      "text/html": [
       "<div>\n",
       "<style scoped>\n",
       "    .dataframe tbody tr th:only-of-type {\n",
       "        vertical-align: middle;\n",
       "    }\n",
       "\n",
       "    .dataframe tbody tr th {\n",
       "        vertical-align: top;\n",
       "    }\n",
       "\n",
       "    .dataframe thead th {\n",
       "        text-align: right;\n",
       "    }\n",
       "</style>\n",
       "<table border=\"1\" class=\"dataframe\">\n",
       "  <thead>\n",
       "    <tr style=\"text-align: right;\">\n",
       "      <th></th>\n",
       "      <th>Impression_Control</th>\n",
       "      <th>Click_Control</th>\n",
       "      <th>Purchase_Control</th>\n",
       "      <th>Earning_Control</th>\n",
       "    </tr>\n",
       "  </thead>\n",
       "  <tbody>\n",
       "    <tr>\n",
       "      <th>Impression_Control</th>\n",
       "      <td>1.00000</td>\n",
       "      <td>-0.31149</td>\n",
       "      <td>0.21457</td>\n",
       "      <td>0.10705</td>\n",
       "    </tr>\n",
       "    <tr>\n",
       "      <th>Click_Control</th>\n",
       "      <td>-0.31149</td>\n",
       "      <td>1.00000</td>\n",
       "      <td>0.05740</td>\n",
       "      <td>-0.35669</td>\n",
       "    </tr>\n",
       "    <tr>\n",
       "      <th>Purchase_Control</th>\n",
       "      <td>0.21457</td>\n",
       "      <td>0.05740</td>\n",
       "      <td>1.00000</td>\n",
       "      <td>0.06173</td>\n",
       "    </tr>\n",
       "    <tr>\n",
       "      <th>Earning_Control</th>\n",
       "      <td>0.10705</td>\n",
       "      <td>-0.35669</td>\n",
       "      <td>0.06173</td>\n",
       "      <td>1.00000</td>\n",
       "    </tr>\n",
       "  </tbody>\n",
       "</table>\n",
       "</div>"
      ],
      "text/plain": [
       "                    Impression_Control  Click_Control  Purchase_Control  \\\n",
       "Impression_Control             1.00000       -0.31149           0.21457   \n",
       "Click_Control                 -0.31149        1.00000           0.05740   \n",
       "Purchase_Control               0.21457        0.05740           1.00000   \n",
       "Earning_Control                0.10705       -0.35669           0.06173   \n",
       "\n",
       "                    Earning_Control  \n",
       "Impression_Control          0.10705  \n",
       "Click_Control              -0.35669  \n",
       "Purchase_Control            0.06173  \n",
       "Earning_Control             1.00000  "
      ]
     },
     "execution_count": 11,
     "metadata": {},
     "output_type": "execute_result"
    }
   ],
   "source": [
    "df_Control.corr()"
   ]
  },
  {
   "cell_type": "code",
   "execution_count": 12,
   "id": "4dbf08b7-7d16-4b51-96e1-d7fb520551f7",
   "metadata": {},
   "outputs": [
    {
     "name": "stdout",
     "output_type": "stream",
     "text": [
      "######################## shape ########################\n",
      "(40, 4)\n",
      "######################## dtypes ########################\n",
      "Impression_Test    float64\n",
      "Click_Test         float64\n",
      "Purchase_Test      float64\n",
      "Earning_Test       float64\n",
      "dtype: object\n",
      "######################## head ########################\n",
      "   Impression_Test  Click_Test  Purchase_Test  Earning_Test\n",
      "0     120103.50380  3216.54796      702.16035    1939.61124\n",
      "1     134775.94336  3635.08242      834.05429    2929.40582\n",
      "2     107806.62079  3057.14356      422.93426    2526.24488\n",
      "3     116445.27553  4650.47391      429.03353    2281.42857\n",
      "4     145082.51684  5201.38772      749.86044    2781.69752\n",
      "######################## tail ########################\n",
      "    Impression_Test  Click_Test  Purchase_Test  Earning_Test\n",
      "35      79234.91193  6002.21358      382.04712    2277.86398\n",
      "36     130702.23941  3626.32007      449.82459    2530.84133\n",
      "37     116481.87337  4702.78247      472.45373    2597.91763\n",
      "38      79033.83492  4495.42818      425.35910    2595.85788\n",
      "39     102257.45409  4800.06832      521.31073    2967.51839\n",
      "######################## isnull.sum() ########################\n",
      "Impression_Test    0\n",
      "Click_Test         0\n",
      "Purchase_Test      0\n",
      "Earning_Test       0\n",
      "dtype: int64\n",
      "######################## Quantiles ########################\n",
      "                   count         mean         std         min          0%  \\\n",
      "Impression_Test 40.00000 120512.41176 18807.44871 79033.83492 79033.83492   \n",
      "Click_Test      40.00000   3967.54976   923.09507  1836.62986  1836.62986   \n",
      "Purchase_Test   40.00000    582.10610   161.15251   311.62952   311.62952   \n",
      "Earning_Test    40.00000   2514.89073   282.73085  1939.61124  1939.61124   \n",
      "\n",
      "                         5%          50%          95%          99%  \\\n",
      "Impression_Test 83150.50378 119291.30077 153178.69106 158245.26380   \n",
      "Click_Test       2600.36102   3931.35980   5271.18691   6012.87730   \n",
      "Purchase_Test     356.69540    551.35573    854.20895    876.57610   \n",
      "Earning_Test     2080.97621   2544.66611   2931.31145   3091.94089   \n",
      "\n",
      "                        100%          max  \n",
      "Impression_Test 158605.92048 158605.92048  \n",
      "Click_Test        6019.69508   6019.69508  \n",
      "Purchase_Test      889.91046    889.91046  \n",
      "Earning_Test      3171.48971   3171.48971  \n"
     ]
    }
   ],
   "source": [
    "check_df(df_Test)"
   ]
  },
  {
   "cell_type": "code",
   "execution_count": 13,
   "id": "ec8775cf-f85a-472d-9d80-eb7137753245",
   "metadata": {},
   "outputs": [
    {
     "name": "stdout",
     "output_type": "stream",
     "text": [
      "######################## shape ########################\n",
      "(40, 4)\n",
      "######################## dtypes ########################\n",
      "Impression_Control    float64\n",
      "Click_Control         float64\n",
      "Purchase_Control      float64\n",
      "Earning_Control       float64\n",
      "dtype: object\n",
      "######################## head ########################\n",
      "   Impression_Control  Click_Control  Purchase_Control  Earning_Control\n",
      "0         82529.45927     6090.07732         665.21125       2311.27714\n",
      "1         98050.45193     3382.86179         315.08489       1742.80686\n",
      "2         82696.02355     4167.96575         458.08374       1797.82745\n",
      "3        109914.40040     4910.88224         487.09077       1696.22918\n",
      "4        108457.76263     5987.65581         441.03405       1543.72018\n",
      "######################## tail ########################\n",
      "    Impression_Control  Click_Control  Purchase_Control  Earning_Control\n",
      "35        132064.21900     3747.15754         551.07241       2256.97559\n",
      "36         86409.94180     4608.25621         345.04603       1781.35769\n",
      "37        123678.93423     3649.07379         476.16813       2187.72122\n",
      "38        101997.49410     4736.35337         474.61354       2254.56383\n",
      "39        121085.88122     4285.17861         590.40602       1289.30895\n",
      "######################## isnull.sum() ########################\n",
      "Impression_Control    0\n",
      "Click_Control         0\n",
      "Purchase_Control      0\n",
      "Earning_Control       0\n",
      "dtype: int64\n",
      "######################## Quantiles ########################\n",
      "                      count         mean         std         min          0%  \\\n",
      "Impression_Control 40.00000 101711.44907 20302.15786 45475.94296 45475.94296   \n",
      "Click_Control      40.00000   5100.65737  1329.98550  2189.75316  2189.75316   \n",
      "Purchase_Control   40.00000    550.89406   134.10820   267.02894   267.02894   \n",
      "Earning_Control    40.00000   1908.56830   302.91778  1253.98952  1253.98952   \n",
      "\n",
      "                            5%         50%          95%          99%  \\\n",
      "Impression_Control 79412.01792 99790.70108 132950.53245 143105.79110   \n",
      "Click_Control       3367.48426  5001.22060   7374.36120   7761.79511   \n",
      "Purchase_Control     328.66242   531.20631    748.27076    790.18779   \n",
      "Earning_Control     1329.57708  1975.16052   2318.52850   2481.30874   \n",
      "\n",
      "                           100%          max  \n",
      "Impression_Control 147539.33633 147539.33633  \n",
      "Click_Control        7959.12507   7959.12507  \n",
      "Purchase_Control      801.79502    801.79502  \n",
      "Earning_Control      2497.29522   2497.29522  \n"
     ]
    }
   ],
   "source": [
    "check_df(df_Control)"
   ]
  },
  {
   "cell_type": "code",
   "execution_count": 14,
   "id": "cb6fcfd0-0f50-4d7b-bf59-cad45d0ff5f5",
   "metadata": {},
   "outputs": [],
   "source": [
    "df=pd.concat([df_Test,df_Control], axis=1)"
   ]
  },
  {
   "cell_type": "code",
   "execution_count": 15,
   "id": "7f6cb4de-04af-4e42-a854-1a002d4ba8c7",
   "metadata": {},
   "outputs": [
    {
     "name": "stdout",
     "output_type": "stream",
     "text": [
      "######################## shape ########################\n",
      "(40, 8)\n",
      "######################## dtypes ########################\n",
      "Impression_Test       float64\n",
      "Click_Test            float64\n",
      "Purchase_Test         float64\n",
      "Earning_Test          float64\n",
      "Impression_Control    float64\n",
      "Click_Control         float64\n",
      "Purchase_Control      float64\n",
      "Earning_Control       float64\n",
      "dtype: object\n",
      "######################## head ########################\n",
      "   Impression_Test  Click_Test  Purchase_Test  Earning_Test  \\\n",
      "0     120103.50380  3216.54796      702.16035    1939.61124   \n",
      "1     134775.94336  3635.08242      834.05429    2929.40582   \n",
      "2     107806.62079  3057.14356      422.93426    2526.24488   \n",
      "3     116445.27553  4650.47391      429.03353    2281.42857   \n",
      "4     145082.51684  5201.38772      749.86044    2781.69752   \n",
      "\n",
      "   Impression_Control  Click_Control  Purchase_Control  Earning_Control  \n",
      "0         82529.45927     6090.07732         665.21125       2311.27714  \n",
      "1         98050.45193     3382.86179         315.08489       1742.80686  \n",
      "2         82696.02355     4167.96575         458.08374       1797.82745  \n",
      "3        109914.40040     4910.88224         487.09077       1696.22918  \n",
      "4        108457.76263     5987.65581         441.03405       1543.72018  \n",
      "######################## tail ########################\n",
      "    Impression_Test  Click_Test  Purchase_Test  Earning_Test  \\\n",
      "35      79234.91193  6002.21358      382.04712    2277.86398   \n",
      "36     130702.23941  3626.32007      449.82459    2530.84133   \n",
      "37     116481.87337  4702.78247      472.45373    2597.91763   \n",
      "38      79033.83492  4495.42818      425.35910    2595.85788   \n",
      "39     102257.45409  4800.06832      521.31073    2967.51839   \n",
      "\n",
      "    Impression_Control  Click_Control  Purchase_Control  Earning_Control  \n",
      "35        132064.21900     3747.15754         551.07241       2256.97559  \n",
      "36         86409.94180     4608.25621         345.04603       1781.35769  \n",
      "37        123678.93423     3649.07379         476.16813       2187.72122  \n",
      "38        101997.49410     4736.35337         474.61354       2254.56383  \n",
      "39        121085.88122     4285.17861         590.40602       1289.30895  \n",
      "######################## isnull.sum() ########################\n",
      "Impression_Test       0\n",
      "Click_Test            0\n",
      "Purchase_Test         0\n",
      "Earning_Test          0\n",
      "Impression_Control    0\n",
      "Click_Control         0\n",
      "Purchase_Control      0\n",
      "Earning_Control       0\n",
      "dtype: int64\n",
      "######################## Quantiles ########################\n",
      "                      count         mean         std         min          0%  \\\n",
      "Impression_Test    40.00000 120512.41176 18807.44871 79033.83492 79033.83492   \n",
      "Click_Test         40.00000   3967.54976   923.09507  1836.62986  1836.62986   \n",
      "Purchase_Test      40.00000    582.10610   161.15251   311.62952   311.62952   \n",
      "Earning_Test       40.00000   2514.89073   282.73085  1939.61124  1939.61124   \n",
      "Impression_Control 40.00000 101711.44907 20302.15786 45475.94296 45475.94296   \n",
      "Click_Control      40.00000   5100.65737  1329.98550  2189.75316  2189.75316   \n",
      "Purchase_Control   40.00000    550.89406   134.10820   267.02894   267.02894   \n",
      "Earning_Control    40.00000   1908.56830   302.91778  1253.98952  1253.98952   \n",
      "\n",
      "                            5%          50%          95%          99%  \\\n",
      "Impression_Test    83150.50378 119291.30077 153178.69106 158245.26380   \n",
      "Click_Test          2600.36102   3931.35980   5271.18691   6012.87730   \n",
      "Purchase_Test        356.69540    551.35573    854.20895    876.57610   \n",
      "Earning_Test        2080.97621   2544.66611   2931.31145   3091.94089   \n",
      "Impression_Control 79412.01792  99790.70108 132950.53245 143105.79110   \n",
      "Click_Control       3367.48426   5001.22060   7374.36120   7761.79511   \n",
      "Purchase_Control     328.66242    531.20631    748.27076    790.18779   \n",
      "Earning_Control     1329.57708   1975.16052   2318.52850   2481.30874   \n",
      "\n",
      "                           100%          max  \n",
      "Impression_Test    158605.92048 158605.92048  \n",
      "Click_Test           6019.69508   6019.69508  \n",
      "Purchase_Test         889.91046    889.91046  \n",
      "Earning_Test         3171.48971   3171.48971  \n",
      "Impression_Control 147539.33633 147539.33633  \n",
      "Click_Control        7959.12507   7959.12507  \n",
      "Purchase_Control      801.79502    801.79502  \n",
      "Earning_Control      2497.29522   2497.29522  \n"
     ]
    }
   ],
   "source": [
    "check_df(df)"
   ]
  },
  {
   "cell_type": "code",
   "execution_count": 16,
   "id": "dc7891a6-0730-4dfa-a9c9-3ac745314f6c",
   "metadata": {},
   "outputs": [
    {
     "data": {
      "text/plain": [
       "<AxesSubplot:xlabel='Purchase_Test', ylabel='Count'>"
      ]
     },
     "execution_count": 16,
     "metadata": {},
     "output_type": "execute_result"
    },
    {
     "data": {
      "image/png": "[encoded data removed]",
      "text/plain": [
       "<Figure size 432x288 with 1 Axes>"
      ]
     },
     "metadata": {
      "needs_background": "light"
     },
     "output_type": "display_data"
    }
   ],
   "source": [
    "sns.histplot(df[\"Purchase_Test\"])"
   ]
  },
  {
   "cell_type": "code",
   "execution_count": 17,
   "id": "f3440918-c483-47ec-ac1c-7e612ef530ea",
   "metadata": {},
   "outputs": [
    {
     "data": {
      "text/plain": [
       "<AxesSubplot:xlabel='Purchase_Control', ylabel='Count'>"
      ]
     },
     "execution_count": 17,
     "metadata": {},
     "output_type": "execute_result"
    },
    {
     "data": {
      "image/png": "[encoded data removed]",
      "text/plain": [
       "<Figure size 432x288 with 1 Axes>"
      ]
     },
     "metadata": {
      "needs_background": "light"
     },
     "output_type": "display_data"
    }
   ],
   "source": [
    "sns.histplot(df[\"Purchase_Control\"])"
   ]
  },
  {
   "cell_type": "code",
   "execution_count": 18,
   "id": "6957a808-bbcb-4d86-a954-47100b2bf9ae",
   "metadata": {},
   "outputs": [
    {
     "data": {
      "text/plain": [
       "<AxesSubplot:ylabel='Frequency'>"
      ]
     },
     "execution_count": 18,
     "metadata": {},
     "output_type": "execute_result"
    },
    {
     "data": {
      "image/png": "[encoded data removed]",
      "text/plain": [
       "<Figure size 432x288 with 1 Axes>"
      ]
     },
     "metadata": {
      "needs_background": "light"
     },
     "output_type": "display_data"
    }
   ],
   "source": [
    "df.plot(kind=\"hist\")"
   ]
  },
  {
   "cell_type": "code",
   "execution_count": 19,
   "id": "1d4f7b6f-9b00-4001-9067-ebcccd9c615d",
   "metadata": {
    "tags": []
   },
   "outputs": [
    {
     "data": {
      "text/plain": [
       "<AxesSubplot:xlabel='Purchase_Test', ylabel='Purchase_Control'>"
      ]
     },
     "execution_count": 19,
     "metadata": {},
     "output_type": "execute_result"
    },
    {
     "data": {
      "image/png": "[encoded data removed]",
      "text/plain": [
       "<Figure size 432x288 with 1 Axes>"
      ]
     },
     "metadata": {
      "needs_background": "light"
     },
     "output_type": "display_data"
    }
   ],
   "source": [
    "df.plot(kind=\"scatter\", x=\"Purchase_Test\", y=\"Purchase_Control\")"
   ]
  },
  {
   "cell_type": "markdown",
   "id": "9c0223e4-cfe5-4149-8482-2dae2e1193ea",
   "metadata": {
    "tags": []
   },
   "source": [
    "#    Defining of Hypothesis of AB_Testing\n",
    "Step_1 \n",
    "\n",
    "HO: M1 = M2(Average_Bidding teklif verme türü ile maximum_bidding teklif verme türü arasında anlamlı bir farklılık yoktur.)\n",
    "\n",
    "H1: M1 != M2(.....vardır)"
   ]
  },
  {
   "cell_type": "markdown",
   "id": "102044b2-cf70-406f-92c7-28432ed781ed",
   "metadata": {
    "tags": []
   },
   "source": []
  },
  {
   "cell_type": "markdown",
   "id": "a8165a8b-a0ab-4bfa-ac95-4776c9c7af14",
   "metadata": {
    "tags": []
   },
   "source": [
    "# Normality Assumption\n",
    "#H0: Its has normality distribution\n",
    "\n",
    "#H1: Its has no normality distribution"
   ]
  },
  {
   "cell_type": "code",
   "execution_count": 20,
   "id": "e8791623-43de-4257-914e-86519b766d43",
   "metadata": {},
   "outputs": [
    {
     "data": {
      "text/plain": [
       "550.8940587702316"
      ]
     },
     "execution_count": 20,
     "metadata": {},
     "output_type": "execute_result"
    }
   ],
   "source": [
    "df[\"Purchase_Control\"].mean()\n"
   ]
  },
  {
   "cell_type": "code",
   "execution_count": 21,
   "id": "fa9c8527-e273-4d13-a2a7-2e8bee2b7695",
   "metadata": {},
   "outputs": [
    {
     "data": {
      "text/plain": [
       "582.1060966484675"
      ]
     },
     "execution_count": 21,
     "metadata": {},
     "output_type": "execute_result"
    }
   ],
   "source": [
    "df[\"Purchase_Test\"].mean()"
   ]
  },
  {
   "cell_type": "code",
   "execution_count": 22,
   "id": "ecad92d0-1692-4310-be04-c1de586d2ae1",
   "metadata": {},
   "outputs": [
    {
     "data": {
      "text/plain": [
       "0.15413185954093933"
      ]
     },
     "execution_count": 22,
     "metadata": {},
     "output_type": "execute_result"
    }
   ],
   "source": [
    "shapiro(df[\"Purchase_Test\"])[1]"
   ]
  },
  {
   "cell_type": "code",
   "execution_count": 23,
   "id": "83f5e521-b469-4430-b3b6-0b4c094a35d9",
   "metadata": {},
   "outputs": [
    {
     "data": {
      "text/plain": [
       "0.5891125202178955"
      ]
     },
     "execution_count": 23,
     "metadata": {},
     "output_type": "execute_result"
    }
   ],
   "source": [
    "shapiro(df[\"Purchase_Control\"])[1]"
   ]
  },
  {
   "cell_type": "markdown",
   "id": "220d3b2e-c1bb-4967-b4d3-e57ed1bf761d",
   "metadata": {},
   "source": [
    "#In this situation, both p_values are greater than 0.05. Therefore, there is normality distribution in here."
   ]
  },
  {
   "cell_type": "markdown",
   "id": "6062e3d7-1b2f-4a56-b618-71d9dcdeaf8c",
   "metadata": {},
   "source": [
    "#   Variance Homogeneity Assumption\n",
    "\n",
    "#H0: Variances are homogeneous\n",
    "\n",
    "#H1: Variances are \"not\" homogenous"
   ]
  },
  {
   "cell_type": "code",
   "execution_count": 24,
   "id": "fbdeaa89-4b05-4da2-bd03-ed55d886fd5e",
   "metadata": {},
   "outputs": [
    {
     "data": {
      "text/plain": [
       "0.10828588271874791"
      ]
     },
     "execution_count": 24,
     "metadata": {},
     "output_type": "execute_result"
    }
   ],
   "source": [
    "levene(df[\"Purchase_Test\"],df[\"Purchase_Control\"])[1]"
   ]
  },
  {
   "cell_type": "markdown",
   "id": "63e1e010-6d87-4e97-b494-fdd71a9bb8ad",
   "metadata": {},
   "source": [
    "#p_value is greater than 0.05. Therefore, there is Variance Homogeneity. So H0 variances are homogeneous.\n",
    "\n",
    "when normality assumption and variance homogeneity are examined, we saw that p_values are greater than 0.05. Thus, t_test is applied to relating columns"
   ]
  },
  {
   "cell_type": "code",
   "execution_count": 25,
   "id": "15a316b2-43c5-416d-864c-f52050f5b0d7",
   "metadata": {},
   "outputs": [
    {
     "data": {
      "text/plain": [
       "0.34932579202108416"
      ]
     },
     "execution_count": 25,
     "metadata": {},
     "output_type": "execute_result"
    }
   ],
   "source": [
    "ttest_ind(df[\"Purchase_Test\"],df[\"Purchase_Control\"], equal_var = True)[1]"
   ]
  },
  {
   "cell_type": "markdown",
   "id": "41cdc5b9-2289-48df-9d0d-6e7f77e505bf",
   "metadata": {},
   "source": [
    "p_values = 0.34932579202108416 > 0.05. H0 CANNOT BE REJECTED. "
   ]
  }
 ],
 "metadata": {
  "kernelspec": {
   "display_name": "Python 3 (ipykernel)",
   "language": "python",
   "name": "python3"
  },
  "language_info": {
   "codemirror_mode": {
    "name": "ipython",
    "version": 3
   },
   "file_extension": ".py",
   "mimetype": "text/x-python",
   "name": "python",
   "nbconvert_exporter": "python",
   "pygments_lexer": "ipython3",
   "version": "3.9.12"
  }
 },
 "nbformat": 4,
 "nbformat_minor": 5
}
